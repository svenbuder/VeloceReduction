{
 "cells": [
  {
   "cell_type": "code",
   "execution_count": null,
   "id": "c4e4621c",
   "metadata": {},
   "outputs": [],
   "source": [
    "import argparse\n",
    "import os\n",
    "from veloce_luminosa_reduction.utils import match_month_to_date, identify_calibration_and_science_runs"
   ]
  },
  {
   "cell_type": "code",
   "execution_count": null,
   "id": "80e6ab04",
   "metadata": {},
   "outputs": [],
   "source": [
    "def main():\n",
    "    \n",
    "    main_directory = os.getcwd()\n",
    "    \n",
    "    # Get all necessary information through parser (otherwise assume we are debugging in jupyter)\n",
    "    try:\n",
    "        parser = argparse.ArgumentParser(description='Reduce CCD images from the Veloce echelle spectrograph.', add_help=True)\n",
    "        parser.add_argument('date', default='240219', type=str, help='Observation night in YYMMDD format.')\n",
    "        parser.add_argument('object_name', default='HIP71683', type=str, help='Name of the science object.')\n",
    "        parser.add_argument('-in', '--raw_data_dir', default=main_directory+'../raw_data', type=str, help='Directory of raw data as created by Veloce YYMMDD/ccd_1 etc.')\n",
    "        parser.add_argument('-out', '--reduced_data_dir', default=main_directory+'../reduced_data', type=str, help='Directory of raw data as created by Veloce YYMMDD/ccd_1 etc.')\n",
    "        parser.add_argument('--debug', action='store_true')\n",
    "        args = parser.parse_args()\n",
    "        date = args.date\n",
    "        object_name = args.object_name\n",
    "        raw_data_dir = args.raw_data_dir\n",
    "        reduced_data_dir = args.reduced_data_dir\n",
    "        debug = args.debug\n",
    "    except:\n",
    "        date = '240219'\n",
    "        object_name = 'HIP71683'\n",
    "        raw_data_dir = '/Users/buder/git/veloce_luminosa_reduction/raw_data'\n",
    "        reduced_data_dir = '/Users/buder/git/veloce_luminosa_reduction/reduced_data'\n",
    "        debug = True\n",
    "\n",
    "    print(date, object_name, debug)\n",
    "\n",
    "    month = match_month_to_date(date)\n",
    "\n",
    "    calibration_runs, science_runs = identify_calibration_and_science_runs(date, raw_data_dir)\n",
    "\n",
    "#     # Step 1: Read in the night log and extract relevant file paths\n",
    "#     # (You'll need to implement this function in your io module)\n",
    "#     files_to_process = read_night_log(args.night, args.object)\n",
    "    \n",
    "#     # Step 2: Read in FITS files based on the extracted paths\n",
    "#     # (This function also needs to be implemented in your io module)\n",
    "#     fits_data = read_fits_files(files_to_process)\n",
    "    \n",
    "#     # Step 3: Create master calibration frames (flat, bias, dark, etc.)\n",
    "#     # (Implement this in your calibration module)\n",
    "#     master_frames = create_master_frames(fits_data['calibration'])\n",
    "    \n",
    "#     # Step 4: Reduce science observations using calibration frames\n",
    "#     # (This function is part of your reduction module)\n",
    "#     reduced_data = reduce_data(fits_data['science'], master_frames)\n",
    "    \n",
    "#     # Step 5: Calibrate the wavelength of the reduced observations\n",
    "#     # (Part of your spectral_calibration module)\n",
    "#     calibrated_data = calibrate_wavelengths(reduced_data)\n",
    "    \n",
    "#     # Step 6: Normalize the spectrum\n",
    "#     # (Implement this in your normalization module)\n",
    "#     normalized_orders = normalize_spectrum(calibrated_data)\n",
    "    \n",
    "#     # Step 7: Patch the orders to one spectrum\n",
    "#     # (Implement this in your order_merging module)\n",
    "#     normalized_merged_spectrum = merge_order(normalized_orders)\n",
    "    \n",
    "#     # Step 8: Output the final reduced and calibrated data\n",
    "#     # This might involve saving to a new FITS file or another format\n",
    "#     # You will need to define this function as well\n",
    "#     save_final_spectrum(normalized_merged_spectrum, args.night, args.object)\n",
    "    \n",
    "#     print(f\"Reduction and calibration complete for {args.object} on night {args.night}.\")"
   ]
  },
  {
   "cell_type": "code",
   "execution_count": null,
   "id": "271a0fca",
   "metadata": {},
   "outputs": [],
   "source": [
    "if __name__ == \"__main__\":\n",
    "    main()"
   ]
  },
  {
   "cell_type": "code",
   "execution_count": null,
   "id": "4828ddb3",
   "metadata": {},
   "outputs": [],
   "source": []
  }
 ],
 "metadata": {
  "kernelspec": {
   "display_name": "Python 3 (ipykernel)",
   "language": "python",
   "name": "python3"
  },
  "language_info": {
   "codemirror_mode": {
    "name": "ipython",
    "version": 3
   },
   "file_extension": ".py",
   "mimetype": "text/x-python",
   "name": "python",
   "nbconvert_exporter": "python",
   "pygments_lexer": "ipython3",
   "version": "3.9.12"
  }
 },
 "nbformat": 4,
 "nbformat_minor": 5
}
