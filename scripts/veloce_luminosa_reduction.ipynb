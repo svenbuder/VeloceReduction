{
 "cells": [
  {
   "cell_type": "code",
   "execution_count": null,
   "id": "c4e4621c",
   "metadata": {},
   "outputs": [],
   "source": [
    "import argparse\n",
    "from veloce_luminosa_reduction.io import read_night_log, read_fits_files\n",
    "from veloce_luminosa_reduction.calibration import create_master_frames\n",
    "from veloce_luminosa_reduction.reduction import reduce_data\n",
    "from veloce_luminosa_reduction.spectral_calibration import calibrate_wavelengths\n",
    "from veloce_luminosa_reduction.normalization import normalize_spectrum\n",
    "from veloce_luminosa_reduction.merging import normalized_merged_spectrum"
   ]
  },
  {
   "cell_type": "code",
   "execution_count": null,
   "id": "80e6ab04",
   "metadata": {},
   "outputs": [],
   "source": [
    "def main():\n",
    "    parser = argparse.ArgumentParser(description=\"Reduce CCD images from the Veloce echelle spectrograph.\")\n",
    "    parser.add_argument(\"night\", type=str, help=\"Observation night in YYMMDD format.\")\n",
    "    parser.add_argument(\"object\", type=str, help=\"Name of the science object.\")\n",
    "    \n",
    "    args = parser.parse_args()\n",
    "    \n",
    "    # Step 1: Read in the night log and extract relevant file paths\n",
    "    # (You'll need to implement this function in your io module)\n",
    "    files_to_process = read_night_log(args.night, args.object)\n",
    "    \n",
    "    # Step 2: Read in FITS files based on the extracted paths\n",
    "    # (This function also needs to be implemented in your io module)\n",
    "    fits_data = read_fits_files(files_to_process)\n",
    "    \n",
    "    # Step 3: Create master calibration frames (flat, bias, dark, etc.)\n",
    "    # (Implement this in your calibration module)\n",
    "    master_frames = create_master_frames(fits_data['calibration'])\n",
    "    \n",
    "    # Step 4: Reduce science observations using calibration frames\n",
    "    # (This function is part of your reduction module)\n",
    "    reduced_data = reduce_data(fits_data['science'], master_frames)\n",
    "    \n",
    "    # Step 5: Calibrate the wavelength of the reduced observations\n",
    "    # (Part of your spectral_calibration module)\n",
    "    calibrated_data = calibrate_wavelengths(reduced_data)\n",
    "    \n",
    "    # Step 6: Normalize the spectrum\n",
    "    # (Implement this in your normalization module)\n",
    "    normalized_orders = normalize_spectrum(calibrated_data)\n",
    "    \n",
    "    # Step 7: Patch the orders to one spectrum\n",
    "    # (Implement this in your order_merging module)\n",
    "    normalized_merged_spectrum = merge_order(normalized_orders)\n",
    "    \n",
    "    # Step 8: Output the final reduced and calibrated data\n",
    "    # This might involve saving to a new FITS file or another format\n",
    "    # You will need to define this function as well\n",
    "    save_final_spectrum(normalized_merged_spectrum, args.night, args.object)\n",
    "    \n",
    "    print(f\"Reduction and calibration complete for {args.object} on night {args.night}.\")"
   ]
  },
  {
   "cell_type": "code",
   "execution_count": null,
   "id": "271a0fca",
   "metadata": {},
   "outputs": [],
   "source": [
    "if __name__ == \"__main__\":\n",
    "    main()"
   ]
  }
 ],
 "metadata": {
  "kernelspec": {
   "display_name": "Python 3 (ipykernel)",
   "language": "python",
   "name": "python3"
  },
  "language_info": {
   "codemirror_mode": {
    "name": "ipython",
    "version": 3
   },
   "file_extension": ".py",
   "mimetype": "text/x-python",
   "name": "python",
   "nbconvert_exporter": "python",
   "pygments_lexer": "ipython3",
   "version": "3.9.12"
  }
 },
 "nbformat": 4,
 "nbformat_minor": 5
}
