{
 "cells": [
  {
   "cell_type": "markdown",
   "id": "37c53d78",
   "metadata": {},
   "source": [
    "# VeloceReduction -- Tutorial\n",
    "\n",
    "This tutorial provides an example on how to reduce data of a given night YYMMDD."
   ]
  },
  {
   "cell_type": "code",
   "execution_count": 1,
   "id": "31b08276",
   "metadata": {},
   "outputs": [],
   "source": [
    "# Preamble\n",
    "try:\n",
    "    %matplotlib inline\n",
    "    %config InlineBackend.figure_format='retina'\n",
    "except:\n",
    "    pass\n",
    "\n",
    "# Basic packages\n",
    "import numpy as np\n",
    "from astropy.io import fits\n",
    "from pathlib import Path\n",
    "\n",
    "# VeloceReduction modules and function\n",
    "from VeloceReduction import config\n",
    "from VeloceReduction.utils import identify_calibration_and_science_runs, polynomial_function\n",
    "from VeloceReduction.extraction import extract_orders, extract_initial_order_ranges_and_coeffs\n",
    "from VeloceReduction.calibration import calibrate_wavelength"
   ]
  },
  {
   "cell_type": "markdown",
   "id": "4982f57a",
   "metadata": {},
   "source": [
    "## Adjust Date and Directory"
   ]
  },
  {
   "cell_type": "code",
   "execution_count": 2,
   "id": "ba063e54",
   "metadata": {},
   "outputs": [],
   "source": [
    "# Define the Date\n",
    "config.date = '001122' # Following the format YYMMDD\n",
    "\n",
    "# Define the Working Directory\n",
    "# We will assume that CCD images are saved in this directory under observations/\n",
    "config.working_directory = './'"
   ]
  },
  {
   "cell_type": "markdown",
   "id": "7e4baf7e",
   "metadata": {},
   "source": [
    "## Identfiy Calibration and Science Runs"
   ]
  },
  {
   "cell_type": "code",
   "execution_count": 3,
   "id": "cac0c948",
   "metadata": {},
   "outputs": [
    {
     "name": "stdout",
     "output_type": "stream",
     "text": [
      "\n",
      "=============================================\n",
      "\n",
      "Identifying calibration and science runs now\n",
      "\n",
      "Found Log file ./observations//001122/001122-AAT-example.log\n",
      "\n"
     ]
    }
   ],
   "source": [
    "# Extract the Calibration and Science data from the night log\n",
    "calibration_runs, science_runs = identify_calibration_and_science_runs(config.date, config.working_directory+'observations/')"
   ]
  },
  {
   "cell_type": "markdown",
   "id": "087ac5ac",
   "metadata": {},
   "source": [
    "## Extract orders and save in initial FITS files with an extension per order."
   ]
  },
  {
   "cell_type": "code",
   "execution_count": 4,
   "id": "6e7415b8",
   "metadata": {},
   "outputs": [],
   "source": [
    "# Extract initial order ranges and coefficients\n",
    "initial_order_ranges, initial_order_coeffs = extract_initial_order_ranges_and_coeffs()"
   ]
  },
  {
   "cell_type": "code",
   "execution_count": 5,
   "id": "081cccdc",
   "metadata": {},
   "outputs": [
    {
     "name": "stdout",
     "output_type": "stream",
     "text": [
      "Extracting Master Flat\n",
      "Extracting Master ThXe\n",
      "Extracting Master LC\n"
     ]
    }
   ],
   "source": [
    "# Extract Master Flat\n",
    "print('Extracting Master Flat')\n",
    "master_flat, noise = extract_orders(\n",
    "    ccd1_runs = calibration_runs['Flat_60.0'][:1],\n",
    "    ccd2_runs = calibration_runs['Flat_1.0'][:1],\n",
    "    ccd3_runs = calibration_runs['Flat_0.1'][:1],\n",
    "    Flat = True\n",
    ")\n",
    "\n",
    "# Extract Master ThXe\n",
    "print('Extracting Master ThXe')\n",
    "master_thxe, noise = extract_orders(\n",
    "    ccd1_runs = calibration_runs['FibTh_180.0'][:1],\n",
    "    ccd2_runs = calibration_runs['FibTh_60.0'][:1],\n",
    "    ccd3_runs = calibration_runs['FibTh_15.0'][:1]\n",
    ")\n",
    "\n",
    "# Extract Master LC\n",
    "print('Extracting Master LC')\n",
    "master_lc, noise = extract_orders(\n",
    "    ccd1_runs = calibration_runs['SimLC'][-1:],\n",
    "    ccd2_runs = calibration_runs['SimLC'][-1:],\n",
    "    ccd3_runs = calibration_runs['SimLC'][-1:],\n",
    "    LC = True,\n",
    "    # tramline_debug = True\n",
    ")"
   ]
  },
  {
   "cell_type": "code",
   "execution_count": 6,
   "id": "56105fe5",
   "metadata": {},
   "outputs": [
    {
     "name": "stdout",
     "output_type": "stream",
     "text": [
      "Extracting HIP69673\n",
      "Successfully extracted HIP69673\n"
     ]
    }
   ],
   "source": [
    "# Extract Science Objects and save them into FITS files under reduced_data/\n",
    "for science_object in list(science_runs.keys()):\n",
    "    print('Extracting '+science_object)\n",
    "    try:\n",
    "        science, science_noise = extract_orders(\n",
    "            ccd1_runs = science_runs[science_object],\n",
    "            ccd2_runs = science_runs[science_object],\n",
    "            ccd3_runs = science_runs[science_object],\n",
    "            Science=True\n",
    "        )\n",
    "\n",
    "        # Create a primary HDU and HDU list\n",
    "        primary_hdu = fits.PrimaryHDU()\n",
    "        hdul = fits.HDUList([primary_hdu])\n",
    "\n",
    "        # Loop over your extension names and corresponding data arrays\n",
    "        for ext_index, ext_name in enumerate(initial_order_coeffs):\n",
    "            # Create an ImageHDU object for each extension\n",
    "\n",
    "            # There is not ThXe available for CCD1's order 138.\n",
    "            if ext_name != 'ccd_1_order_138':\n",
    "\n",
    "                # Define the columns with appropriate formats\n",
    "                col1_def = fits.Column(name='wave_vac',format='E', array=np.arange(len(science[ext_index,:]),dtype=float))\n",
    "                col2_def = fits.Column(name='wave_air',format='E', array=np.arange(len(science[ext_index,:]),dtype=float))\n",
    "                col3_def = fits.Column(name='science', format='E', array=science[ext_index,:])\n",
    "                col4_def = fits.Column(name='science_noise',   format='E', array=science_noise[ext_index,:])\n",
    "                col5_def = fits.Column(name='flat',    format='E', array=master_flat[ext_index,:])\n",
    "                col6_def = fits.Column(name='thxe',    format='E', array=master_thxe[ext_index,:])\n",
    "                col7_def = fits.Column(name='lc',      format='E', array=master_lc[ext_index,:])\n",
    "\n",
    "                hdu = fits.BinTableHDU.from_columns([col1_def, col2_def, col3_def, col4_def, col5_def, col6_def, col7_def], name=science_object+'_'+ext_name.lower())\n",
    "\n",
    "                # Append the HDU to the HDU list\n",
    "                hdul.append(hdu)\n",
    "\n",
    "        # Save to a new FITS file with an extension for each order\n",
    "        Path(config.working_directory+'reduced_data/'+config.date+'/'+science_object).mkdir(parents=True, exist_ok=True)    \n",
    "        hdul.writeto(config.working_directory+'reduced_data/'+config.date+'/'+science_object+'/veloce_spectra_'+science_object+'_'+config.date+'.fits', overwrite=True)\n",
    "\n",
    "        print('Successfully extracted '+science_object)\n",
    "\n",
    "    except:\n",
    "        print('Failed to extract '+science_object)"
   ]
  },
  {
   "cell_type": "markdown",
   "id": "7c3a7445",
   "metadata": {},
   "source": [
    "## Wavelength calibration"
   ]
  },
  {
   "cell_type": "code",
   "execution_count": 7,
   "id": "7907d4cf",
   "metadata": {
    "scrolled": false
   },
   "outputs": [
    {
     "name": "stderr",
     "output_type": "stream",
     "text": [
      "/Users/buder/git/VeloceReduction/VeloceReduction/calibration.py:89: RuntimeWarning: invalid value encountered in true_divide\n",
      "  ax.plot(file[order].data['SCIENCE']/file[order].data['FLAT'], lw=1)\n",
      "/Users/buder/git/VeloceReduction/VeloceReduction/calibration.py:102: RuntimeWarning: invalid value encountered in true_divide\n",
      "  ax.plot(file[order].data['SCIENCE']/file[order].data['SCIENCE_NOISE'], lw=1)\n",
      "/Users/buder/git/VeloceReduction/VeloceReduction/calibration.py:106: RuntimeWarning: invalid value encountered in true_divide\n",
      "  ax.plot(file[order].data['THXE']/file[order].data['FLAT'], lw=1)\n",
      "/Users/buder/git/VeloceReduction/VeloceReduction/calibration.py:111: RuntimeWarning: divide by zero encountered in true_divide\n",
      "  ax.plot(file[order].data['LC']/file[order].data['FLAT'], lw=0.5)\n",
      "/Users/buder/git/VeloceReduction/VeloceReduction/calibration.py:118: RuntimeWarning: invalid value encountered in true_divide\n",
      "  science = file[order].data['SCIENCE']/file[order].data['FLAT']\n",
      "/Users/buder/git/VeloceReduction/VeloceReduction/calibration.py:119: RuntimeWarning: invalid value encountered in true_divide\n",
      "  thxe = file[order].data['THXE']/file[order].data['FLAT']\n",
      "/Users/buder/git/VeloceReduction/VeloceReduction/calibration.py:120: RuntimeWarning: divide by zero encountered in true_divide\n",
      "  lc = file[order].data['LC']/file[order].data['FLAT']\n"
     ]
    }
   ],
   "source": [
    "for science_object in list(science_runs.keys()):\n",
    "    calibrate_wavelength(science_object, create_overview_pdf=True)"
   ]
  }
 ],
 "metadata": {
  "kernelspec": {
   "display_name": "Python 3 (ipykernel)",
   "language": "python",
   "name": "python3"
  },
  "language_info": {
   "codemirror_mode": {
    "name": "ipython",
    "version": 3
   },
   "file_extension": ".py",
   "mimetype": "text/x-python",
   "name": "python",
   "nbconvert_exporter": "python",
   "pygments_lexer": "ipython3",
   "version": "3.9.12"
  }
 },
 "nbformat": 4,
 "nbformat_minor": 5
}
